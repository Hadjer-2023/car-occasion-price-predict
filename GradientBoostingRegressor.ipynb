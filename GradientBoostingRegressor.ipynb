{
 "cells": [
  {
   "cell_type": "code",
   "execution_count": 25,
   "metadata": {},
   "outputs": [],
   "source": [
    "import pandas as pd\n",
    "import numpy as np\n",
    "from sklearn.feature_extraction.text import TfidfVectorizer\n",
    "from sklearn.cluster import KMeans\n",
    "from sklearn.metrics import r2_score, mean_absolute_error, mean_squared_error\n",
    "from sklearn.pipeline import Pipeline\n",
    "from sklearn.impute import SimpleImputer\n",
    "from sklearn.preprocessing import StandardScaler\n",
    "from sklearn.compose import ColumnTransformer\n",
    "from sklearn.ensemble import GradientBoostingRegressor\n",
    "from collections import Counter\n",
    "import pickle"
   ]
  },
  {
   "cell_type": "code",
   "execution_count": 26,
   "metadata": {},
   "outputs": [],
   "source": [
    "# Charger les données\n",
    "df_train = pd.read_csv('train.csv')\n",
    "df_test = pd.read_csv('test.csv')\n",
    "df_data_dict = pd.read_excel('data dictionary.xlsx')\n",
    "\n",
    "# Définir les colonnes à sélectionner pour l'entraînement du modèle\n",
    "features = ['Year', 'Kilometers_Driven', 'Mileage', 'Engine', 'Power', 'Seats', 'Fuel_Type', 'Transmission', 'Owner_Type']\n"
   ]
  },
  {
   "cell_type": "code",
   "execution_count": 27,
   "metadata": {},
   "outputs": [],
   "source": [
    "# Vectoriser la colonne \"Name\" en utilisant TF-IDF\n",
    "vectorizer = TfidfVectorizer()\n",
    "X = vectorizer.fit_transform(df_train['Name'])\n",
    "\n",
    "# Appliquer le clustering k-means\n",
    "kmeans = KMeans(n_clusters=10)\n",
    "kmeans.fit(X)\n",
    "\n",
    "# Ajouter les étiquettes de cluster à la colonne \"Name\"\n",
    "df_train['Name_Cluster'] = kmeans.labels_\n",
    "\n",
    "# Attribuer les noms de clusters les plus fréquents\n",
    "cluster_names = []\n",
    "for i in range(10):\n",
    "    names = df_train['Name'][df_train['Name_Cluster'] == i]\n",
    "    counter = Counter(names)\n",
    "    cluster_name = counter.most_common(1)[0][0]\n",
    "    cluster_names.append(cluster_name)\n",
    "\n",
    "# Remplacer les valeurs dans la colonne \"Name_Cluster\" par les nouveaux noms de cluster\n",
    "cluster_map = dict(zip(range(10), cluster_names))\n",
    "df_train['Name_Cluster'] = df_train['Name_Cluster'].map(cluster_map)\n"
   ]
  },
  {
   "cell_type": "code",
   "execution_count": 28,
   "metadata": {},
   "outputs": [],
   "source": [
    "# Nettoyer et préparer les données\n",
    "df_train['Engine'] = df_train['Engine'].str.replace(' CC', '', regex=False)\n",
    "df_train['Mileage'] = df_train['Mileage'].str.replace(' kmpl| km/kg', '', regex=True).astype(float)\n",
    "df_train['Power'] = df_train['Power'].str.replace(' bhp', '').replace('null', np.nan).astype(float)\n",
    "df_train = df_train.drop(['New_Price'], axis=1)\n",
    "\n",
    "num_cols = ['Year', 'Kilometers_Driven', 'Mileage', 'Engine', 'Power', 'Seats']\n",
    "cat_cols = ['Fuel_Type', 'Transmission', 'Owner_Type', 'Name_Cluster']\n",
    "\n",
    "# Séparer les données en features et cible\n",
    "X = df_train.drop(['Price'], axis=1)\n",
    "y = df_train['Price']"
   ]
  },
  {
   "cell_type": "code",
   "execution_count": 29,
   "metadata": {},
   "outputs": [],
   "source": [
    "# Définir les transformations pour les colonnes numériques et catégorielles\n",
    "num_pipeline = Pipeline([\n",
    "    ('imputer', SimpleImputer(strategy='mean')),\n",
    "    ('scaler', StandardScaler())\n",
    "])\n",
    "\n",
    "cat_pipeline = Pipeline([\n",
    "    ('imputer', SimpleImputer(strategy='constant', fill_value='missing')),\n",
    "    ('onehot', OneHotEncoder(handle_unknown='ignore'))\n",
    "])\n",
    "\n",
    "# Combiner les transformations en une seule étape de prétraitement\n",
    "preprocessor = ColumnTransformer([\n",
    "    ('num', num_pipeline, num_cols),\n",
    "    ('cat', cat_pipeline, cat_cols)\n",
    "])\n",
    "\n",
    "# Définir le modèle de régression\n",
    "model = GradientBoostingRegressor(random_state=42)\n",
    "\n",
    "# Créer la pipeline\n",
    "pipeline = Pipeline([\n",
    "    ('preprocessor', preprocessor),\n",
    "    ('model', model)\n",
    "])"
   ]
  },
  {
   "cell_type": "code",
   "execution_count": 30,
   "metadata": {},
   "outputs": [
    {
     "name": "stdout",
     "output_type": "stream",
     "text": [
      "Score de la pipeline sur les données de validation : 0.8529797697028105\n",
      "R² : 0.8529797697028105\n",
      "MAE : 2.0278836367145616\n",
      "MSE : 18.09223483839815\n",
      "RMSE : 4.253496777758054\n"
     ]
    }
   ],
   "source": [
    "# Diviser les données d'entraînement en ensembles d'entraînement et de validation\n",
    "X_train, X_val, y_train, y_val = train_test_split(X, y, test_size=0.2, random_state=42)\n",
    "\n",
    "# Entraîner le modèle sur les données d'entraînement\n",
    "pipeline.fit(X_train, y_train)\n",
    "\n",
    "# Évaluer les performances du modèle sur les données de validation\n",
    "score = pipeline.score(X_val, y_val)\n",
    "print('Score de la pipeline sur les données de validation :', score)\n",
    "\n",
    "# Faire des prédictions sur les données de validation\n",
    "y_pred = pipeline.predict(X_val)\n",
    "\n",
    "# Coefficient de détermination (R²)\n",
    "r2 = r2_score(y_val, y_pred)\n",
    "print(\"R² :\", r2)\n",
    "\n",
    "# Erreur moyenne absolue (MAE)\n",
    "mae = mean_absolute_error(y_val, y_pred)\n",
    "print(\"MAE :\", mae)\n",
    "\n",
    "# Erreur quadratique moyenne (MSE)\n",
    "mse = mean_squared_error(y_val, y_pred)\n",
    "print(\"MSE :\", mse)\n",
    "\n",
    "# Erreur quadratique moyenne racine (RMSE)\n",
    "rmse = np.sqrt(mse)\n",
    "print(\"RMSE :\", rmse)"
   ]
  },
  {
   "cell_type": "code",
   "execution_count": 31,
   "metadata": {},
   "outputs": [],
   "source": [
    "# Enregistrer le modèle entraîné sous forme de fichier pickle\n",
    "with open('trained_model.pkl', 'wb') as file:\n",
    "    pickle.dump(pipeline, file)\n"
   ]
  }
 ],
 "metadata": {
  "kernelspec": {
   "display_name": "Clustering",
   "language": "python",
   "name": "python3"
  },
  "language_info": {
   "codemirror_mode": {
    "name": "ipython",
    "version": 3
   },
   "file_extension": ".py",
   "mimetype": "text/x-python",
   "name": "python",
   "nbconvert_exporter": "python",
   "pygments_lexer": "ipython3",
   "version": "3.11.7"
  }
 },
 "nbformat": 4,
 "nbformat_minor": 2
}
